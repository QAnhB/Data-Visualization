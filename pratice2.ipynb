{
 "cells": [
  {
   "cell_type": "code",
   "execution_count": 273,
   "metadata": {},
   "outputs": [],
   "source": [
    "import pandas as pd\n",
    "import numpy as np\n",
    "from datetime import date\n",
    "import matplotlib.pyplot as plt\n",
    "from sklearn.neighbors import KernelDensity\n",
    "import seaborn as sns\n",
    "import math\n",
    "from operator import itemgetter\n",
    "import matplotlib.ticker as ticker"
   ]
  },
  {
   "cell_type": "code",
   "execution_count": 50,
   "metadata": {},
   "outputs": [
    {
     "data": {
      "text/html": [
       "<div>\n",
       "<style scoped>\n",
       "    .dataframe tbody tr th:only-of-type {\n",
       "        vertical-align: middle;\n",
       "    }\n",
       "\n",
       "    .dataframe tbody tr th {\n",
       "        vertical-align: top;\n",
       "    }\n",
       "\n",
       "    .dataframe thead th {\n",
       "        text-align: right;\n",
       "    }\n",
       "</style>\n",
       "<table border=\"1\" class=\"dataframe\">\n",
       "  <thead>\n",
       "    <tr style=\"text-align: right;\">\n",
       "      <th></th>\n",
       "      <th>Jan</th>\n",
       "      <th>Feb</th>\n",
       "      <th>Mar</th>\n",
       "      <th>Apr</th>\n",
       "      <th>May</th>\n",
       "      <th>Jun</th>\n",
       "      <th>Jul</th>\n",
       "      <th>Aug</th>\n",
       "      <th>Sep</th>\n",
       "      <th>Oct</th>\n",
       "      <th>Nov</th>\n",
       "      <th>Dec</th>\n",
       "    </tr>\n",
       "    <tr>\n",
       "      <th>2008</th>\n",
       "      <th></th>\n",
       "      <th></th>\n",
       "      <th></th>\n",
       "      <th></th>\n",
       "      <th></th>\n",
       "      <th></th>\n",
       "      <th></th>\n",
       "      <th></th>\n",
       "      <th></th>\n",
       "      <th></th>\n",
       "      <th></th>\n",
       "      <th></th>\n",
       "    </tr>\n",
       "  </thead>\n",
       "  <tbody>\n",
       "    <tr>\n",
       "      <th>1</th>\n",
       "      <td>10.5</td>\n",
       "      <td>7.3</td>\n",
       "      <td>10.8</td>\n",
       "      <td>18.2</td>\n",
       "      <td>20.0</td>\n",
       "      <td>25.3</td>\n",
       "      <td>27.2</td>\n",
       "      <td>25.1</td>\n",
       "      <td>25.8</td>\n",
       "      <td>23.0</td>\n",
       "      <td>24.9</td>\n",
       "      <td>12.6</td>\n",
       "    </tr>\n",
       "    <tr>\n",
       "      <th>2</th>\n",
       "      <td>9.8</td>\n",
       "      <td>10.4</td>\n",
       "      <td>10.7</td>\n",
       "      <td>18.0</td>\n",
       "      <td>25.4</td>\n",
       "      <td>24.8</td>\n",
       "      <td>26.6</td>\n",
       "      <td>26.1</td>\n",
       "      <td>26.7</td>\n",
       "      <td>23.5</td>\n",
       "      <td>20.9</td>\n",
       "      <td>13.9</td>\n",
       "    </tr>\n",
       "    <tr>\n",
       "      <th>3</th>\n",
       "      <td>10.7</td>\n",
       "      <td>11.0</td>\n",
       "      <td>11.7</td>\n",
       "      <td>18.8</td>\n",
       "      <td>25.4</td>\n",
       "      <td>26.5</td>\n",
       "      <td>27.4</td>\n",
       "      <td>25.8</td>\n",
       "      <td>25.1</td>\n",
       "      <td>24.5</td>\n",
       "      <td>20.4</td>\n",
       "      <td>17.7</td>\n",
       "    </tr>\n",
       "    <tr>\n",
       "      <th>4</th>\n",
       "      <td>15.1</td>\n",
       "      <td>12.9</td>\n",
       "      <td>12.4</td>\n",
       "      <td>20.4</td>\n",
       "      <td>26.5</td>\n",
       "      <td>25.2</td>\n",
       "      <td>27.2</td>\n",
       "      <td>25.3</td>\n",
       "      <td>26.0</td>\n",
       "      <td>23.0</td>\n",
       "      <td>23.1</td>\n",
       "      <td>20.5</td>\n",
       "    </tr>\n",
       "    <tr>\n",
       "      <th>5</th>\n",
       "      <td>13.5</td>\n",
       "      <td>11.4</td>\n",
       "      <td>16.0</td>\n",
       "      <td>22.4</td>\n",
       "      <td>24.0</td>\n",
       "      <td>26.0</td>\n",
       "      <td>26.2</td>\n",
       "      <td>26.2</td>\n",
       "      <td>23.5</td>\n",
       "      <td>22.7</td>\n",
       "      <td>22.5</td>\n",
       "      <td>16.7</td>\n",
       "    </tr>\n",
       "    <tr>\n",
       "      <th>6</th>\n",
       "      <td>16.0</td>\n",
       "      <td>11.0</td>\n",
       "      <td>16.7</td>\n",
       "      <td>23.6</td>\n",
       "      <td>24.0</td>\n",
       "      <td>26.2</td>\n",
       "      <td>25.5</td>\n",
       "      <td>26.4</td>\n",
       "      <td>24.6</td>\n",
       "      <td>22.8</td>\n",
       "      <td>23.8</td>\n",
       "      <td>17.6</td>\n",
       "    </tr>\n",
       "    <tr>\n",
       "      <th>7</th>\n",
       "      <td>15.8</td>\n",
       "      <td>10.3</td>\n",
       "      <td>17.1</td>\n",
       "      <td>23.6</td>\n",
       "      <td>25.1</td>\n",
       "      <td>27.8</td>\n",
       "      <td>25.0</td>\n",
       "      <td>25.0</td>\n",
       "      <td>24.7</td>\n",
       "      <td>24.4</td>\n",
       "      <td>19.6</td>\n",
       "      <td>16.4</td>\n",
       "    </tr>\n",
       "    <tr>\n",
       "      <th>8</th>\n",
       "      <td>15.8</td>\n",
       "      <td>12.1</td>\n",
       "      <td>16.9</td>\n",
       "      <td>26.4</td>\n",
       "      <td>25.1</td>\n",
       "      <td>24.8</td>\n",
       "      <td>25.8</td>\n",
       "      <td>26.3</td>\n",
       "      <td>25.3</td>\n",
       "      <td>24.1</td>\n",
       "      <td>18.5</td>\n",
       "      <td>12.7</td>\n",
       "    </tr>\n",
       "    <tr>\n",
       "      <th>9</th>\n",
       "      <td>18.0</td>\n",
       "      <td>11.7</td>\n",
       "      <td>17.8</td>\n",
       "      <td>23.8</td>\n",
       "      <td>22.5</td>\n",
       "      <td>26.2</td>\n",
       "      <td>25.6</td>\n",
       "      <td>24.3</td>\n",
       "      <td>22.7</td>\n",
       "      <td>24.0</td>\n",
       "      <td>17.2</td>\n",
       "      <td>12.6</td>\n",
       "    </tr>\n",
       "    <tr>\n",
       "      <th>10</th>\n",
       "      <td>20.2</td>\n",
       "      <td>-99.0</td>\n",
       "      <td>18.0</td>\n",
       "      <td>23.8</td>\n",
       "      <td>19.8</td>\n",
       "      <td>24.9</td>\n",
       "      <td>26.8</td>\n",
       "      <td>24.9</td>\n",
       "      <td>23.7</td>\n",
       "      <td>25.5</td>\n",
       "      <td>16.0</td>\n",
       "      <td>16.9</td>\n",
       "    </tr>\n",
       "    <tr>\n",
       "      <th>11</th>\n",
       "      <td>18.3</td>\n",
       "      <td>10.6</td>\n",
       "      <td>17.5</td>\n",
       "      <td>24.3</td>\n",
       "      <td>22.4</td>\n",
       "      <td>25.4</td>\n",
       "      <td>27.0</td>\n",
       "      <td>25.7</td>\n",
       "      <td>24.9</td>\n",
       "      <td>24.6</td>\n",
       "      <td>16.1</td>\n",
       "      <td>14.5</td>\n",
       "    </tr>\n",
       "    <tr>\n",
       "      <th>12</th>\n",
       "      <td>20.9</td>\n",
       "      <td>10.9</td>\n",
       "      <td>18.1</td>\n",
       "      <td>24.8</td>\n",
       "      <td>23.2</td>\n",
       "      <td>26.0</td>\n",
       "      <td>24.6</td>\n",
       "      <td>25.2</td>\n",
       "      <td>25.0</td>\n",
       "      <td>23.9</td>\n",
       "      <td>16.9</td>\n",
       "      <td>16.9</td>\n",
       "    </tr>\n",
       "    <tr>\n",
       "      <th>13</th>\n",
       "      <td>17.4</td>\n",
       "      <td>11.3</td>\n",
       "      <td>19.0</td>\n",
       "      <td>22.6</td>\n",
       "      <td>21.4</td>\n",
       "      <td>26.9</td>\n",
       "      <td>27.5</td>\n",
       "      <td>26.9</td>\n",
       "      <td>24.5</td>\n",
       "      <td>21.9</td>\n",
       "      <td>17.9</td>\n",
       "      <td>18.0</td>\n",
       "    </tr>\n",
       "    <tr>\n",
       "      <th>14</th>\n",
       "      <td>14.5</td>\n",
       "      <td>10.8</td>\n",
       "      <td>18.5</td>\n",
       "      <td>23.7</td>\n",
       "      <td>22.6</td>\n",
       "      <td>27.1</td>\n",
       "      <td>28.8</td>\n",
       "      <td>26.6</td>\n",
       "      <td>24.5</td>\n",
       "      <td>21.7</td>\n",
       "      <td>21.0</td>\n",
       "      <td>17.7</td>\n",
       "    </tr>\n",
       "    <tr>\n",
       "      <th>15</th>\n",
       "      <td>11.5</td>\n",
       "      <td>12.2</td>\n",
       "      <td>19.6</td>\n",
       "      <td>24.6</td>\n",
       "      <td>22.4</td>\n",
       "      <td>27.6</td>\n",
       "      <td>26.0</td>\n",
       "      <td>28.2</td>\n",
       "      <td>25.5</td>\n",
       "      <td>22.4</td>\n",
       "      <td>21.4</td>\n",
       "      <td>15.0</td>\n",
       "    </tr>\n",
       "    <tr>\n",
       "      <th>16</th>\n",
       "      <td>12.4</td>\n",
       "      <td>13.1</td>\n",
       "      <td>21.0</td>\n",
       "      <td>22.3</td>\n",
       "      <td>25.0</td>\n",
       "      <td>27.6</td>\n",
       "      <td>25.8</td>\n",
       "      <td>29.0</td>\n",
       "      <td>-99.0</td>\n",
       "      <td>23.4</td>\n",
       "      <td>22.8</td>\n",
       "      <td>15.8</td>\n",
       "    </tr>\n",
       "    <tr>\n",
       "      <th>17</th>\n",
       "      <td>13.3</td>\n",
       "      <td>11.6</td>\n",
       "      <td>22.0</td>\n",
       "      <td>22.0</td>\n",
       "      <td>26.0</td>\n",
       "      <td>26.8</td>\n",
       "      <td>27.0</td>\n",
       "      <td>27.0</td>\n",
       "      <td>-99.0</td>\n",
       "      <td>25.5</td>\n",
       "      <td>22.7</td>\n",
       "      <td>14.7</td>\n",
       "    </tr>\n",
       "    <tr>\n",
       "      <th>18</th>\n",
       "      <td>15.3</td>\n",
       "      <td>12.4</td>\n",
       "      <td>19.6</td>\n",
       "      <td>23.0</td>\n",
       "      <td>20.8</td>\n",
       "      <td>26.1</td>\n",
       "      <td>27.0</td>\n",
       "      <td>25.9</td>\n",
       "      <td>-99.0</td>\n",
       "      <td>24.0</td>\n",
       "      <td>19.4</td>\n",
       "      <td>13.4</td>\n",
       "    </tr>\n",
       "    <tr>\n",
       "      <th>19</th>\n",
       "      <td>17.8</td>\n",
       "      <td>12.5</td>\n",
       "      <td>20.7</td>\n",
       "      <td>24.0</td>\n",
       "      <td>21.4</td>\n",
       "      <td>26.0</td>\n",
       "      <td>27.8</td>\n",
       "      <td>25.4</td>\n",
       "      <td>25.5</td>\n",
       "      <td>24.1</td>\n",
       "      <td>16.9</td>\n",
       "      <td>16.9</td>\n",
       "    </tr>\n",
       "    <tr>\n",
       "      <th>20</th>\n",
       "      <td>18.9</td>\n",
       "      <td>12.1</td>\n",
       "      <td>22.9</td>\n",
       "      <td>24.6</td>\n",
       "      <td>23.0</td>\n",
       "      <td>25.4</td>\n",
       "      <td>27.4</td>\n",
       "      <td>26.4</td>\n",
       "      <td>24.7</td>\n",
       "      <td>24.5</td>\n",
       "      <td>17.2</td>\n",
       "      <td>18.1</td>\n",
       "    </tr>\n",
       "    <tr>\n",
       "      <th>21</th>\n",
       "      <td>16.1</td>\n",
       "      <td>11.2</td>\n",
       "      <td>22.1</td>\n",
       "      <td>25.4</td>\n",
       "      <td>24.0</td>\n",
       "      <td>26.6</td>\n",
       "      <td>26.5</td>\n",
       "      <td>27.2</td>\n",
       "      <td>25.2</td>\n",
       "      <td>23.7</td>\n",
       "      <td>19.6</td>\n",
       "      <td>20.7</td>\n",
       "    </tr>\n",
       "    <tr>\n",
       "      <th>22</th>\n",
       "      <td>12.9</td>\n",
       "      <td>13.6</td>\n",
       "      <td>18.1</td>\n",
       "      <td>24.0</td>\n",
       "      <td>24.5</td>\n",
       "      <td>28.0</td>\n",
       "      <td>28.5</td>\n",
       "      <td>29.5</td>\n",
       "      <td>25.5</td>\n",
       "      <td>25.2</td>\n",
       "      <td>21.5</td>\n",
       "      <td>14.2</td>\n",
       "    </tr>\n",
       "    <tr>\n",
       "      <th>23</th>\n",
       "      <td>13.8</td>\n",
       "      <td>15.3</td>\n",
       "      <td>15.3</td>\n",
       "      <td>18.4</td>\n",
       "      <td>25.9</td>\n",
       "      <td>29.0</td>\n",
       "      <td>28.0</td>\n",
       "      <td>25.0</td>\n",
       "      <td>28.3</td>\n",
       "      <td>24.5</td>\n",
       "      <td>19.6</td>\n",
       "      <td>13.7</td>\n",
       "    </tr>\n",
       "    <tr>\n",
       "      <th>24</th>\n",
       "      <td>11.6</td>\n",
       "      <td>17.2</td>\n",
       "      <td>17.0</td>\n",
       "      <td>20.9</td>\n",
       "      <td>26.2</td>\n",
       "      <td>27.3</td>\n",
       "      <td>27.5</td>\n",
       "      <td>26.0</td>\n",
       "      <td>24.5</td>\n",
       "      <td>25.4</td>\n",
       "      <td>20.0</td>\n",
       "      <td>14.2</td>\n",
       "    </tr>\n",
       "    <tr>\n",
       "      <th>25</th>\n",
       "      <td>12.9</td>\n",
       "      <td>16.9</td>\n",
       "      <td>19.3</td>\n",
       "      <td>20.4</td>\n",
       "      <td>25.3</td>\n",
       "      <td>27.2</td>\n",
       "      <td>26.5</td>\n",
       "      <td>25.9</td>\n",
       "      <td>26.3</td>\n",
       "      <td>24.0</td>\n",
       "      <td>20.2</td>\n",
       "      <td>15.6</td>\n",
       "    </tr>\n",
       "    <tr>\n",
       "      <th>26</th>\n",
       "      <td>12.5</td>\n",
       "      <td>11.8</td>\n",
       "      <td>18.0</td>\n",
       "      <td>21.5</td>\n",
       "      <td>27.1</td>\n",
       "      <td>27.3</td>\n",
       "      <td>25.9</td>\n",
       "      <td>24.5</td>\n",
       "      <td>25.0</td>\n",
       "      <td>26.6</td>\n",
       "      <td>20.2</td>\n",
       "      <td>15.9</td>\n",
       "    </tr>\n",
       "    <tr>\n",
       "      <th>27</th>\n",
       "      <td>13.5</td>\n",
       "      <td>13.0</td>\n",
       "      <td>19.8</td>\n",
       "      <td>21.9</td>\n",
       "      <td>26.9</td>\n",
       "      <td>-99.0</td>\n",
       "      <td>25.8</td>\n",
       "      <td>27.3</td>\n",
       "      <td>24.1</td>\n",
       "      <td>24.0</td>\n",
       "      <td>16.3</td>\n",
       "      <td>17.9</td>\n",
       "    </tr>\n",
       "    <tr>\n",
       "      <th>28</th>\n",
       "      <td>13.3</td>\n",
       "      <td>12.6</td>\n",
       "      <td>20.9</td>\n",
       "      <td>21.7</td>\n",
       "      <td>28.2</td>\n",
       "      <td>25.9</td>\n",
       "      <td>26.4</td>\n",
       "      <td>26.1</td>\n",
       "      <td>25.0</td>\n",
       "      <td>24.5</td>\n",
       "      <td>15.0</td>\n",
       "      <td>19.4</td>\n",
       "    </tr>\n",
       "    <tr>\n",
       "      <th>29</th>\n",
       "      <td>12.0</td>\n",
       "      <td>10.4</td>\n",
       "      <td>22.2</td>\n",
       "      <td>23.5</td>\n",
       "      <td>27.8</td>\n",
       "      <td>26.5</td>\n",
       "      <td>26.0</td>\n",
       "      <td>27.6</td>\n",
       "      <td>22.3</td>\n",
       "      <td>24.4</td>\n",
       "      <td>13.2</td>\n",
       "      <td>18.5</td>\n",
       "    </tr>\n",
       "    <tr>\n",
       "      <th>30</th>\n",
       "      <td>9.6</td>\n",
       "      <td>-99.0</td>\n",
       "      <td>21.5</td>\n",
       "      <td>24.0</td>\n",
       "      <td>23.6</td>\n",
       "      <td>27.1</td>\n",
       "      <td>26.0</td>\n",
       "      <td>28.0</td>\n",
       "      <td>22.0</td>\n",
       "      <td>24.7</td>\n",
       "      <td>13.4</td>\n",
       "      <td>14.7</td>\n",
       "    </tr>\n",
       "    <tr>\n",
       "      <th>31</th>\n",
       "      <td>8.6</td>\n",
       "      <td>-99.0</td>\n",
       "      <td>19.3</td>\n",
       "      <td>-99.0</td>\n",
       "      <td>24.4</td>\n",
       "      <td>-99.0</td>\n",
       "      <td>27.1</td>\n",
       "      <td>25.9</td>\n",
       "      <td>-99.0</td>\n",
       "      <td>25.5</td>\n",
       "      <td>-99.0</td>\n",
       "      <td>14.6</td>\n",
       "    </tr>\n",
       "  </tbody>\n",
       "</table>\n",
       "</div>"
      ],
      "text/plain": [
       "       Jan   Feb   Mar   Apr   May   Jun   Jul   Aug   Sep   Oct   Nov   Dec\n",
       "2008                                                                        \n",
       "1     10.5   7.3  10.8  18.2  20.0  25.3  27.2  25.1  25.8  23.0  24.9  12.6\n",
       "2      9.8  10.4  10.7  18.0  25.4  24.8  26.6  26.1  26.7  23.5  20.9  13.9\n",
       "3     10.7  11.0  11.7  18.8  25.4  26.5  27.4  25.8  25.1  24.5  20.4  17.7\n",
       "4     15.1  12.9  12.4  20.4  26.5  25.2  27.2  25.3  26.0  23.0  23.1  20.5\n",
       "5     13.5  11.4  16.0  22.4  24.0  26.0  26.2  26.2  23.5  22.7  22.5  16.7\n",
       "6     16.0  11.0  16.7  23.6  24.0  26.2  25.5  26.4  24.6  22.8  23.8  17.6\n",
       "7     15.8  10.3  17.1  23.6  25.1  27.8  25.0  25.0  24.7  24.4  19.6  16.4\n",
       "8     15.8  12.1  16.9  26.4  25.1  24.8  25.8  26.3  25.3  24.1  18.5  12.7\n",
       "9     18.0  11.7  17.8  23.8  22.5  26.2  25.6  24.3  22.7  24.0  17.2  12.6\n",
       "10    20.2 -99.0  18.0  23.8  19.8  24.9  26.8  24.9  23.7  25.5  16.0  16.9\n",
       "11    18.3  10.6  17.5  24.3  22.4  25.4  27.0  25.7  24.9  24.6  16.1  14.5\n",
       "12    20.9  10.9  18.1  24.8  23.2  26.0  24.6  25.2  25.0  23.9  16.9  16.9\n",
       "13    17.4  11.3  19.0  22.6  21.4  26.9  27.5  26.9  24.5  21.9  17.9  18.0\n",
       "14    14.5  10.8  18.5  23.7  22.6  27.1  28.8  26.6  24.5  21.7  21.0  17.7\n",
       "15    11.5  12.2  19.6  24.6  22.4  27.6  26.0  28.2  25.5  22.4  21.4  15.0\n",
       "16    12.4  13.1  21.0  22.3  25.0  27.6  25.8  29.0 -99.0  23.4  22.8  15.8\n",
       "17    13.3  11.6  22.0  22.0  26.0  26.8  27.0  27.0 -99.0  25.5  22.7  14.7\n",
       "18    15.3  12.4  19.6  23.0  20.8  26.1  27.0  25.9 -99.0  24.0  19.4  13.4\n",
       "19    17.8  12.5  20.7  24.0  21.4  26.0  27.8  25.4  25.5  24.1  16.9  16.9\n",
       "20    18.9  12.1  22.9  24.6  23.0  25.4  27.4  26.4  24.7  24.5  17.2  18.1\n",
       "21    16.1  11.2  22.1  25.4  24.0  26.6  26.5  27.2  25.2  23.7  19.6  20.7\n",
       "22    12.9  13.6  18.1  24.0  24.5  28.0  28.5  29.5  25.5  25.2  21.5  14.2\n",
       "23    13.8  15.3  15.3  18.4  25.9  29.0  28.0  25.0  28.3  24.5  19.6  13.7\n",
       "24    11.6  17.2  17.0  20.9  26.2  27.3  27.5  26.0  24.5  25.4  20.0  14.2\n",
       "25    12.9  16.9  19.3  20.4  25.3  27.2  26.5  25.9  26.3  24.0  20.2  15.6\n",
       "26    12.5  11.8  18.0  21.5  27.1  27.3  25.9  24.5  25.0  26.6  20.2  15.9\n",
       "27    13.5  13.0  19.8  21.9  26.9 -99.0  25.8  27.3  24.1  24.0  16.3  17.9\n",
       "28    13.3  12.6  20.9  21.7  28.2  25.9  26.4  26.1  25.0  24.5  15.0  19.4\n",
       "29    12.0  10.4  22.2  23.5  27.8  26.5  26.0  27.6  22.3  24.4  13.2  18.5\n",
       "30     9.6 -99.0  21.5  24.0  23.6  27.1  26.0  28.0  22.0  24.7  13.4  14.7\n",
       "31     8.6 -99.0  19.3 -99.0  24.4 -99.0  27.1  25.9 -99.0  25.5 -99.0  14.6"
      ]
     },
     "execution_count": 50,
     "metadata": {},
     "output_type": "execute_result"
    }
   ],
   "source": [
    "df = pd.read_fwf('D:\\Downloads\\Clone\\Data Visualization\\Homework_sampledata1.txt', sep = '\\s+')\n",
    "df = df.set_index('2008')\n",
    "months = [date(2008,m,1).strftime('%b') for m in range(1,13)]\n",
    "df.columns = months\n",
    "df"
   ]
  },
  {
   "cell_type": "code",
   "execution_count": 51,
   "metadata": {},
   "outputs": [
    {
     "data": {
      "image/png": "[encoded data removed]",
      "text/plain": [
       "<Figure size 640x480 with 1 Axes>"
      ]
     },
     "metadata": {},
     "output_type": "display_data"
    }
   ],
   "source": [
    "df = df.replace(-99.0, np.nan)\n",
    "df_list = [df[i] for i in df.columns]\n",
    "df_list = list(df_list)\n",
    "flatten = [item for sublist in df_list for item in sublist]\n",
    "new_flatten = [i for i in flatten if math.isnan(i) == False]\n",
    "\n",
    "plt.figure()\n",
    "plt.hist(new_flatten,50,range=(min(new_flatten),max(new_flatten)), density = True)\n",
    "plt.title('Histogram')\n",
    "plt.ylabel('Probability density')\n",
    "\n",
    "kde = KernelDensity(kernel = 'gaussian', bandwidth = 1).fit(np.array(new_flatten).reshape(-1,1))\n",
    "x_axis = np.linspace(np.min(new_flatten), np.max(new_flatten), 361)\n",
    "log_dens = kde.score_samples(x_axis.reshape(-1,1))\n",
    "\n",
    "plt.plot(x_axis, np.exp(log_dens),color='r',lw=1,linestyle='-',label='gaussian kernel')\n",
    "plt.xticks([10,15,20,25,30])\n",
    "plt.ylim((0,0.17))\n",
    "plt.legend()\n",
    "plt.show()"
   ]
  },
  {
   "cell_type": "code",
   "execution_count": 52,
   "metadata": {},
   "outputs": [
    {
     "data": {
      "text/plain": [
       "Text(0.5, 0, 'Times')"
      ]
     },
     "execution_count": 52,
     "metadata": {},
     "output_type": "execute_result"
    },
    {
     "data": {
      "image/png": "[encoded data removed]",
      "text/plain": [
       "<Figure size 1200x600 with 1 Axes>"
      ]
     },
     "metadata": {},
     "output_type": "display_data"
    }
   ],
   "source": [
    "fig,ax = plt.subplots(figsize = (12,6))\n",
    "fig = sns.boxplot(df, ax=ax)\n",
    "ax.set_xticklabels(labels = df.columns)\n",
    "ax.set_title('Box Plot')\n",
    "ax.set_ylabel('Temperature (oC)')\n",
    "ax.set_xlabel('Times')"
   ]
  },
  {
   "cell_type": "code",
   "execution_count": 53,
   "metadata": {},
   "outputs": [
    {
     "data": {
      "text/plain": [
       "[17.386703969868343,\n",
       " 14.00969221108806,\n",
       " 21.27685454468131,\n",
       " 24.70627447408836,\n",
       " 26.357877296062696,\n",
       " 27.49383218779071,\n",
       " 27.618835105224015,\n",
       " 27.509182018520647,\n",
       " 26.1363770127843,\n",
       " 25.158059758292058,\n",
       " 22.228321582980957,\n",
       " 18.258429760863145]"
      ]
     },
     "execution_count": 53,
     "metadata": {},
     "output_type": "execute_result"
    }
   ],
   "source": [
    "mean= [np.nanmean(df_list[i].tolist()) for i in range(len(df_list))]\n",
    "std= [np.nanstd(df_list[i].tolist()) for i in range(len(df_list))]\n",
    "subtract = list(map(lambda a, b: a - b, mean,std))\n",
    "add = list(map(lambda a, b: a + b, mean,std))\n",
    "add"
   ]
  },
  {
   "cell_type": "code",
   "execution_count": 54,
   "metadata": {},
   "outputs": [
    {
     "data": {
      "image/png": "[encoded data removed]",
      "text/plain": [
       "<Figure size 1200x600 with 1 Axes>"
      ]
     },
     "metadata": {},
     "output_type": "display_data"
    }
   ],
   "source": [
    "plt.figure(figsize=(12,6))\n",
    "plt.bar(months,mean,width = 0.5, color = 'aqua')\n",
    "\n",
    "plt.vlines(months, subtract, add,color='k', linestyle='-', lw=1)\n",
    "plt.ylim((10,30))\n",
    "plt.title('Error bar')\n",
    "plt.show()"
   ]
  },
  {
   "cell_type": "code",
   "execution_count": 55,
   "metadata": {},
   "outputs": [
    {
     "data": {
      "text/plain": [
       "12"
      ]
     },
     "execution_count": 55,
     "metadata": {},
     "output_type": "execute_result"
    }
   ],
   "source": [
    "new_list = []\n",
    "for i in range(len(df_list)):\n",
    "    withou_nan = [x for x in df_list[i] if not math.isnan(x)]\n",
    "    new_list.append(withou_nan)\n",
    "len(new_list)"
   ]
  },
  {
   "cell_type": "code",
   "execution_count": 56,
   "metadata": {},
   "outputs": [
    {
     "data": {
      "image/png": "[encoded data removed]",
      "text/plain": [
       "<Figure size 1200x400 with 1 Axes>"
      ]
     },
     "metadata": {},
     "output_type": "display_data"
    }
   ],
   "source": [
    "plt.figure(figsize=(12,4))\n",
    "plt.violinplot(new_list,showmeans = False,showmedians=False,showextrema=False)\n",
    "\n",
    "for i in range(len(new_list)):\n",
    "    plt.vlines(i+1,np.percentile(new_list[i],25), np.percentile(new_list[i],75), color = 'k', linestyle= '-', lw=5)\n",
    "    plt.vlines(i+1,np.min(new_list[i]), np.max(new_list[i]), color = 'k', linestyle = '-', lw = 1)\n",
    "    plt.scatter(i+1,np.median(new_list[i]), marker = 'o', color = 'white', s= 20,zorder=3)\n",
    "plt.xticks(range(1,13),df.columns)\n",
    "plt.title('Violin Plot')\n",
    "plt.xlabel('Times')\n",
    "plt.show()"
   ]
  },
  {
   "cell_type": "code",
   "execution_count": 57,
   "metadata": {},
   "outputs": [
    {
     "data": {
      "text/plain": [
       "{1: (0.4704772184457087, 0.4019778859151365),\n",
       " 2: (0.4757431278816473, 0.2693791788909508),\n",
       " 3: (0.21729721962733187, 0.320505198441375),\n",
       " 4: (0.3311396953236662, 0.45391425735759083),\n",
       " 5: (0.5350711683314091, 0.3314603528679057),\n",
       " 6: (0.3086693126267346, 0.5262435758632853),\n",
       " 7: (0.5509934556534188, 0.3233822445258821),\n",
       " 8: (0.6354871958166165, 0.2334702673959359),\n",
       " 9: (0.21980198193401565, 0.1781240228472164),\n",
       " 10: (0.298940087894391, 0.07109031946389556),\n",
       " 11: (0.3035425198829478, 0.0708728086330481),\n",
       " 12: (0.42993588361068474, 0.491805629218943),\n",
       " 13: (0.4893137624898449, 0.2920642811491708),\n",
       " 14: (0.14844636195806618, 0.2038941519297053),\n",
       " 15: (0.528625886475898, 0.6642593441964383),\n",
       " 16: (0.6106218528378492, 0.604583016272331),\n",
       " 17: (0.36732583731002116, 0.6195641990373547),\n",
       " 18: (0.7147006285104621, 0.36913831875256076),\n",
       " 19: (0.5691102178331778, 0.26190066215790275),\n",
       " 20: (0.08101869026036441, 0.11356011383719353),\n",
       " 21: (0.30506860330377567, 0.07385272335904913),\n",
       " 22: (0.30383964410332637, 0.06991383407165805),\n",
       " 23: (0.376764719665275, 0.354727149498139),\n",
       " 24: (0.3991492218547377, 0.2392295878939669),\n",
       " 25: (0.43651086907778547, 0.305922750111618),\n",
       " 26: (0.5666496124519936, 0.6428340441535053),\n",
       " 27: (0.5105106639990312, 0.7245214159274675),\n",
       " 28: (0.4039451401243522, 0.663440006396444),\n",
       " 29: (0.669970246667655, 0.535160198091031),\n",
       " 30: (0.5360003471127673, 0.36829877228074953),\n",
       " 31: (0.06866243212940247, 0.08891717536829476),\n",
       " 32: (0.2856876013061574, 0.06985629748408809),\n",
       " 33: (0.29692919297290027, 0.06585506198934218),\n",
       " 34: (0.5733389864966125, 0.38053166041150976),\n",
       " 35: (0.5970154998011585, 0.3652540519506044),\n",
       " 36: (0.1303304983266802, 0.17344263374948207),\n",
       " 37: (0.3501568730034297, 0.562167162485558),\n",
       " 38: (0.340699807215872, 0.660939246487758),\n",
       " 39: (0.568609458641662, 0.4962639938022561),\n",
       " 40: (0.428504188595461, 0.42124169960642044),\n",
       " 41: (0.4182040157878399, 0.5568496764653612),\n",
       " 42: (0.056727776673117014, 0.07296804067200388),\n",
       " 43: (0.29218845427944184, 0.07091293827624418),\n",
       " 44: (0.3001329973223034, 0.06599815472650515),\n",
       " 45: (0.580339593317075, 0.4666385350338311)}"
      ]
     },
     "execution_count": 57,
     "metadata": {},
     "output_type": "execute_result"
    }
   ],
   "source": [
    "with open('D:\\Downloads\\Clone\\Data Visualization\\HW2_literature_score.txt', 'r') as f:\n",
    "    col_1 = []\n",
    "    col_2 = []\n",
    "    lines = [line.strip() for line in f if line]\n",
    "    for line in lines:\n",
    "        sline = line.split(' ')\n",
    "        col_1.append(float(sline[0]))\n",
    "        col_2.append(float(sline[1]))\n",
    "\n",
    "student_id = [i+1 for i in range(len(col_1))]\n",
    "literature = dict(zip(student_id, zip(col_1,col_2)))\n",
    "literature"
   ]
  },
  {
   "cell_type": "code",
   "execution_count": 13,
   "metadata": {},
   "outputs": [
    {
     "name": "stdout",
     "output_type": "stream",
     "text": [
      "{1: [0.4704772184457087, 0.4019778859151365, 0.42937761892736537], 2: [0.4757431278816473, 0.2693791788909508, 0.3519247584872294], 3: [0.21729721962733187, 0.320505198441375, 0.2792220069157577], 4: [0.3311396953236662, 0.45391425735759083, 0.404804432544021], 5: [0.5350711683314091, 0.3314603528679057, 0.4129046790533071], 6: [0.3086693126267346, 0.5262435758632853, 0.439213870568665], 7: [0.5509934556534188, 0.3233822445258821, 0.4144267289768968], 8: [0.6354871958166165, 0.2334702673959359, 0.39427703876420817], 9: [0.21980198193401565, 0.1781240228472164, 0.1947952064819361], 10: [0.298940087894391, 0.07109031946389556, 0.16223022683609375], 11: [0.3035425198829478, 0.0708728086330481, 0.16394069313300796], 12: [0.42993588361068474, 0.491805629218943, 0.4670577309756397], 13: [0.4893137624898449, 0.2920642811491708, 0.3709640736854405], 14: [0.14844636195806618, 0.2038941519297053, 0.18171503594104965], 15: [0.528625886475898, 0.6642593441964383, 0.6100059611082222], 16: [0.6106218528378492, 0.604583016272331, 0.6069985508985383], 17: [0.36732583731002116, 0.6195641990373547, 0.5186688543464213], 18: [0.7147006285104621, 0.36913831875256076, 0.5073632426557213], 19: [0.5691102178331778, 0.26190066215790275, 0.3847844844280128], 20: [0.08101869026036441, 0.11356011383719353, 0.10054354440646188], 21: [0.30506860330377567, 0.07385272335904913, 0.16633907533693976], 22: [0.30383964410332637, 0.06991383407165805, 0.16348415808432537], 23: [0.376764719665275, 0.354727149498139, 0.3635421775649934], 24: [0.3991492218547377, 0.2392295878939669, 0.3031974414782752], 25: [0.43651086907778547, 0.305922750111618, 0.358157997698085], 26: [0.5666496124519936, 0.6428340441535053, 0.6123602714729006], 27: [0.5105106639990312, 0.7245214159274675, 0.6389171151560931], 28: [0.4039451401243522, 0.663440006396444, 0.5596420598876073], 29: [0.669970246667655, 0.535160198091031, 0.5890842175216806], 30: [0.5360003471127673, 0.36829877228074953, 0.43537940221355664], 31: [0.06866243212940247, 0.08891717536829476, 0.08081527807273785], 32: [0.2856876013061574, 0.06985629748408809, 0.1561888190129158], 33: [0.29692919297290027, 0.06585506198934218, 0.15828471438276542], 34: [0.5733389864966125, 0.38053166041150976, 0.4576545908455509], 35: [0.5970154998011585, 0.3652540519506044, 0.457958631090826], 36: [0.1303304983266802, 0.17344263374948207, 0.15619777958036132], 37: [0.3501568730034297, 0.562167162485558, 0.4773630466927067], 38: [0.340699807215872, 0.660939246487758, 0.5328434707790036], 39: [0.568609458641662, 0.4962639938022561, 0.5252021797380184], 40: [0.428504188595461, 0.42124169960642044, 0.4241466952020367], 41: [0.4182040157878399, 0.5568496764653612, 0.5013914121943527], 42: [0.056727776673117014, 0.07296804067200388, 0.06647193507244914], 43: [0.29218845427944184, 0.07091293827624418, 0.15942314467752325], 44: [0.3001329973223034, 0.06599815472650515, 0.15965209176482445], 45: [0.580339593317075, 0.4666385350338311, 0.5121189583471286]}\n"
     ]
    }
   ],
   "source": [
    "for key,value in literature.items():\n",
    "    literature[key] = list(literature[key])\n",
    "    literature[key].append(value[0]*0.4 + value[1]*0.6)\n",
    "print(literature)"
   ]
  },
  {
   "cell_type": "code",
   "execution_count": 14,
   "metadata": {},
   "outputs": [
    {
     "data": {
      "text/plain": [
       "{27: [0.5105106639990312, 0.7245214159274675, 0.6389171151560931],\n",
       " 26: [0.5666496124519936, 0.6428340441535053, 0.6123602714729006],\n",
       " 15: [0.528625886475898, 0.6642593441964383, 0.6100059611082222],\n",
       " 16: [0.6106218528378492, 0.604583016272331, 0.6069985508985383],\n",
       " 29: [0.669970246667655, 0.535160198091031, 0.5890842175216806],\n",
       " 28: [0.4039451401243522, 0.663440006396444, 0.5596420598876073],\n",
       " 38: [0.340699807215872, 0.660939246487758, 0.5328434707790036],\n",
       " 39: [0.568609458641662, 0.4962639938022561, 0.5252021797380184],\n",
       " 17: [0.36732583731002116, 0.6195641990373547, 0.5186688543464213],\n",
       " 45: [0.580339593317075, 0.4666385350338311, 0.5121189583471286],\n",
       " 18: [0.7147006285104621, 0.36913831875256076, 0.5073632426557213],\n",
       " 41: [0.4182040157878399, 0.5568496764653612, 0.5013914121943527],\n",
       " 37: [0.3501568730034297, 0.562167162485558, 0.4773630466927067],\n",
       " 12: [0.42993588361068474, 0.491805629218943, 0.4670577309756397],\n",
       " 35: [0.5970154998011585, 0.3652540519506044, 0.457958631090826],\n",
       " 34: [0.5733389864966125, 0.38053166041150976, 0.4576545908455509],\n",
       " 6: [0.3086693126267346, 0.5262435758632853, 0.439213870568665],\n",
       " 30: [0.5360003471127673, 0.36829877228074953, 0.43537940221355664],\n",
       " 1: [0.4704772184457087, 0.4019778859151365, 0.42937761892736537],\n",
       " 40: [0.428504188595461, 0.42124169960642044, 0.4241466952020367],\n",
       " 7: [0.5509934556534188, 0.3233822445258821, 0.4144267289768968],\n",
       " 5: [0.5350711683314091, 0.3314603528679057, 0.4129046790533071],\n",
       " 4: [0.3311396953236662, 0.45391425735759083, 0.404804432544021],\n",
       " 8: [0.6354871958166165, 0.2334702673959359, 0.39427703876420817],\n",
       " 19: [0.5691102178331778, 0.26190066215790275, 0.3847844844280128],\n",
       " 13: [0.4893137624898449, 0.2920642811491708, 0.3709640736854405],\n",
       " 23: [0.376764719665275, 0.354727149498139, 0.3635421775649934],\n",
       " 25: [0.43651086907778547, 0.305922750111618, 0.358157997698085],\n",
       " 2: [0.4757431278816473, 0.2693791788909508, 0.3519247584872294],\n",
       " 24: [0.3991492218547377, 0.2392295878939669, 0.3031974414782752],\n",
       " 3: [0.21729721962733187, 0.320505198441375, 0.2792220069157577],\n",
       " 9: [0.21980198193401565, 0.1781240228472164, 0.1947952064819361],\n",
       " 14: [0.14844636195806618, 0.2038941519297053, 0.18171503594104965],\n",
       " 21: [0.30506860330377567, 0.07385272335904913, 0.16633907533693976],\n",
       " 11: [0.3035425198829478, 0.0708728086330481, 0.16394069313300796],\n",
       " 22: [0.30383964410332637, 0.06991383407165805, 0.16348415808432537],\n",
       " 10: [0.298940087894391, 0.07109031946389556, 0.16223022683609375],\n",
       " 44: [0.3001329973223034, 0.06599815472650515, 0.15965209176482445],\n",
       " 43: [0.29218845427944184, 0.07091293827624418, 0.15942314467752325],\n",
       " 33: [0.29692919297290027, 0.06585506198934218, 0.15828471438276542],\n",
       " 36: [0.1303304983266802, 0.17344263374948207, 0.15619777958036132],\n",
       " 32: [0.2856876013061574, 0.06985629748408809, 0.1561888190129158],\n",
       " 20: [0.08101869026036441, 0.11356011383719353, 0.10054354440646188],\n",
       " 31: [0.06866243212940247, 0.08891717536829476, 0.08081527807273785],\n",
       " 42: [0.056727776673117014, 0.07296804067200388, 0.06647193507244914]}"
      ]
     },
     "execution_count": 14,
     "metadata": {},
     "output_type": "execute_result"
    }
   ],
   "source": [
    "literature = dict(sorted(literature.items(), key=lambda x:x[1][-1], reverse = True))\n",
    "literature"
   ]
  },
  {
   "cell_type": "code",
   "execution_count": 13,
   "metadata": {},
   "outputs": [
    {
     "data": {
      "application/vnd.plotly.v1+json": {
       "config": {
        "plotlyServerURL": "https://plot.ly"
       },
       "data": [
        {
         "orientation": "h",
         "type": "bar",
         "x": [
          0.6389171151560931,
          0.6123602714729006,
          0.6100059611082222,
          0.6069985508985383,
          0.5890842175216806,
          0.5596420598876073,
          0.5328434707790036,
          0.5252021797380184,
          0.5186688543464213,
          0.5121189583471286,
          0.5073632426557213,
          0.5013914121943527,
          0.4773630466927067,
          0.4670577309756397,
          0.457958631090826,
          0.4576545908455509,
          0.439213870568665,
          0.43537940221355664,
          0.42937761892736537,
          0.4241466952020367,
          0.4144267289768968,
          0.4129046790533071,
          0.404804432544021,
          0.39427703876420817,
          0.3847844844280128,
          0.3709640736854405,
          0.3635421775649934,
          0.358157997698085,
          0.3519247584872294,
          0.3031974414782752,
          0.2792220069157577,
          0.1947952064819361,
          0.18171503594104965,
          0.16633907533693976,
          0.16394069313300796,
          0.16348415808432537,
          0.16223022683609375,
          0.15965209176482445,
          0.15942314467752325,
          0.15828471438276542,
          0.15619777958036132,
          0.1561888190129158,
          0.10054354440646188,
          0.08081527807273785,
          0.06647193507244914
         ],
         "y": [
          27,
          26,
          15,
          16,
          29,
          28,
          38,
          39,
          17,
          45,
          18,
          41,
          37,
          12,
          35,
          34,
          6,
          30,
          1,
          40,
          7,
          5,
          4,
          8,
          19,
          13,
          23,
          25,
          2,
          24,
          3,
          9,
          14,
          21,
          11,
          22,
          10,
          44,
          43,
          33,
          36,
          32,
          20,
          31,
          42
         ]
        }
       ],
       "layout": {
        "template": {
         "data": {
          "bar": [
           {
            "error_x": {
             "color": "#2a3f5f"
            },
            "error_y": {
             "color": "#2a3f5f"
            },
            "marker": {
             "line": {
              "color": "#E5ECF6",
              "width": 0.5
             },
             "pattern": {
              "fillmode": "overlay",
              "size": 10,
              "solidity": 0.2
             }
            },
            "type": "bar"
           }
          ],
          "barpolar": [
           {
            "marker": {
             "line": {
              "color": "#E5ECF6",
              "width": 0.5
             },
             "pattern": {
              "fillmode": "overlay",
              "size": 10,
              "solidity": 0.2
             }
            },
            "type": "barpolar"
           }
          ],
          "carpet": [
           {
            "aaxis": {
             "endlinecolor": "#2a3f5f",
             "gridcolor": "white",
             "linecolor": "white",
             "minorgridcolor": "white",
             "startlinecolor": "#2a3f5f"
            },
            "baxis": {
             "endlinecolor": "#2a3f5f",
             "gridcolor": "white",
             "linecolor": "white",
             "minorgridcolor": "white",
             "startlinecolor": "#2a3f5f"
            },
            "type": "carpet"
           }
          ],
          "choropleth": [
           {
            "colorbar": {
             "outlinewidth": 0,
             "ticks": ""
            },
            "type": "choropleth"
           }
          ],
          "contour": [
           {
            "colorbar": {
             "outlinewidth": 0,
             "ticks": ""
            },
            "colorscale": [
             [
              0,
              "#0d0887"
             ],
             [
              0.1111111111111111,
              "#46039f"
             ],
             [
              0.2222222222222222,
              "#7201a8"
             ],
             [
              0.3333333333333333,
              "#9c179e"
             ],
             [
              0.4444444444444444,
              "#bd3786"
             ],
             [
              0.5555555555555556,
              "#d8576b"
             ],
             [
              0.6666666666666666,
              "#ed7953"
             ],
             [
              0.7777777777777778,
              "#fb9f3a"
             ],
             [
              0.8888888888888888,
              "#fdca26"
             ],
             [
              1,
              "#f0f921"
             ]
            ],
            "type": "contour"
           }
          ],
          "contourcarpet": [
           {
            "colorbar": {
             "outlinewidth": 0,
             "ticks": ""
            },
            "type": "contourcarpet"
           }
          ],
          "heatmap": [
           {
            "colorbar": {
             "outlinewidth": 0,
             "ticks": ""
            },
            "colorscale": [
             [
              0,
              "#0d0887"
             ],
             [
              0.1111111111111111,
              "#46039f"
             ],
             [
              0.2222222222222222,
              "#7201a8"
             ],
             [
              0.3333333333333333,
              "#9c179e"
             ],
             [
              0.4444444444444444,
              "#bd3786"
             ],
             [
              0.5555555555555556,
              "#d8576b"
             ],
             [
              0.6666666666666666,
              "#ed7953"
             ],
             [
              0.7777777777777778,
              "#fb9f3a"
             ],
             [
              0.8888888888888888,
              "#fdca26"
             ],
             [
              1,
              "#f0f921"
             ]
            ],
            "type": "heatmap"
           }
          ],
          "heatmapgl": [
           {
            "colorbar": {
             "outlinewidth": 0,
             "ticks": ""
            },
            "colorscale": [
             [
              0,
              "#0d0887"
             ],
             [
              0.1111111111111111,
              "#46039f"
             ],
             [
              0.2222222222222222,
              "#7201a8"
             ],
             [
              0.3333333333333333,
              "#9c179e"
             ],
             [
              0.4444444444444444,
              "#bd3786"
             ],
             [
              0.5555555555555556,
              "#d8576b"
             ],
             [
              0.6666666666666666,
              "#ed7953"
             ],
             [
              0.7777777777777778,
              "#fb9f3a"
             ],
             [
              0.8888888888888888,
              "#fdca26"
             ],
             [
              1,
              "#f0f921"
             ]
            ],
            "type": "heatmapgl"
           }
          ],
          "histogram": [
           {
            "marker": {
             "pattern": {
              "fillmode": "overlay",
              "size": 10,
              "solidity": 0.2
             }
            },
            "type": "histogram"
           }
          ],
          "histogram2d": [
           {
            "colorbar": {
             "outlinewidth": 0,
             "ticks": ""
            },
            "colorscale": [
             [
              0,
              "#0d0887"
             ],
             [
              0.1111111111111111,
              "#46039f"
             ],
             [
              0.2222222222222222,
              "#7201a8"
             ],
             [
              0.3333333333333333,
              "#9c179e"
             ],
             [
              0.4444444444444444,
              "#bd3786"
             ],
             [
              0.5555555555555556,
              "#d8576b"
             ],
             [
              0.6666666666666666,
              "#ed7953"
             ],
             [
              0.7777777777777778,
              "#fb9f3a"
             ],
             [
              0.8888888888888888,
              "#fdca26"
             ],
             [
              1,
              "#f0f921"
             ]
            ],
            "type": "histogram2d"
           }
          ],
          "histogram2dcontour": [
           {
            "colorbar": {
             "outlinewidth": 0,
             "ticks": ""
            },
            "colorscale": [
             [
              0,
              "#0d0887"
             ],
             [
              0.1111111111111111,
              "#46039f"
             ],
             [
              0.2222222222222222,
              "#7201a8"
             ],
             [
              0.3333333333333333,
              "#9c179e"
             ],
             [
              0.4444444444444444,
              "#bd3786"
             ],
             [
              0.5555555555555556,
              "#d8576b"
             ],
             [
              0.6666666666666666,
              "#ed7953"
             ],
             [
              0.7777777777777778,
              "#fb9f3a"
             ],
             [
              0.8888888888888888,
              "#fdca26"
             ],
             [
              1,
              "#f0f921"
             ]
            ],
            "type": "histogram2dcontour"
           }
          ],
          "mesh3d": [
           {
            "colorbar": {
             "outlinewidth": 0,
             "ticks": ""
            },
            "type": "mesh3d"
           }
          ],
          "parcoords": [
           {
            "line": {
             "colorbar": {
              "outlinewidth": 0,
              "ticks": ""
             }
            },
            "type": "parcoords"
           }
          ],
          "pie": [
           {
            "automargin": true,
            "type": "pie"
           }
          ],
          "scatter": [
           {
            "fillpattern": {
             "fillmode": "overlay",
             "size": 10,
             "solidity": 0.2
            },
            "type": "scatter"
           }
          ],
          "scatter3d": [
           {
            "line": {
             "colorbar": {
              "outlinewidth": 0,
              "ticks": ""
             }
            },
            "marker": {
             "colorbar": {
              "outlinewidth": 0,
              "ticks": ""
             }
            },
            "type": "scatter3d"
           }
          ],
          "scattercarpet": [
           {
            "marker": {
             "colorbar": {
              "outlinewidth": 0,
              "ticks": ""
             }
            },
            "type": "scattercarpet"
           }
          ],
          "scattergeo": [
           {
            "marker": {
             "colorbar": {
              "outlinewidth": 0,
              "ticks": ""
             }
            },
            "type": "scattergeo"
           }
          ],
          "scattergl": [
           {
            "marker": {
             "colorbar": {
              "outlinewidth": 0,
              "ticks": ""
             }
            },
            "type": "scattergl"
           }
          ],
          "scattermapbox": [
           {
            "marker": {
             "colorbar": {
              "outlinewidth": 0,
              "ticks": ""
             }
            },
            "type": "scattermapbox"
           }
          ],
          "scatterpolar": [
           {
            "marker": {
             "colorbar": {
              "outlinewidth": 0,
              "ticks": ""
             }
            },
            "type": "scatterpolar"
           }
          ],
          "scatterpolargl": [
           {
            "marker": {
             "colorbar": {
              "outlinewidth": 0,
              "ticks": ""
             }
            },
            "type": "scatterpolargl"
           }
          ],
          "scatterternary": [
           {
            "marker": {
             "colorbar": {
              "outlinewidth": 0,
              "ticks": ""
             }
            },
            "type": "scatterternary"
           }
          ],
          "surface": [
           {
            "colorbar": {
             "outlinewidth": 0,
             "ticks": ""
            },
            "colorscale": [
             [
              0,
              "#0d0887"
             ],
             [
              0.1111111111111111,
              "#46039f"
             ],
             [
              0.2222222222222222,
              "#7201a8"
             ],
             [
              0.3333333333333333,
              "#9c179e"
             ],
             [
              0.4444444444444444,
              "#bd3786"
             ],
             [
              0.5555555555555556,
              "#d8576b"
             ],
             [
              0.6666666666666666,
              "#ed7953"
             ],
             [
              0.7777777777777778,
              "#fb9f3a"
             ],
             [
              0.8888888888888888,
              "#fdca26"
             ],
             [
              1,
              "#f0f921"
             ]
            ],
            "type": "surface"
           }
          ],
          "table": [
           {
            "cells": {
             "fill": {
              "color": "#EBF0F8"
             },
             "line": {
              "color": "white"
             }
            },
            "header": {
             "fill": {
              "color": "#C8D4E3"
             },
             "line": {
              "color": "white"
             }
            },
            "type": "table"
           }
          ]
         },
         "layout": {
          "annotationdefaults": {
           "arrowcolor": "#2a3f5f",
           "arrowhead": 0,
           "arrowwidth": 1
          },
          "autotypenumbers": "strict",
          "coloraxis": {
           "colorbar": {
            "outlinewidth": 0,
            "ticks": ""
           }
          },
          "colorscale": {
           "diverging": [
            [
             0,
             "#8e0152"
            ],
            [
             0.1,
             "#c51b7d"
            ],
            [
             0.2,
             "#de77ae"
            ],
            [
             0.3,
             "#f1b6da"
            ],
            [
             0.4,
             "#fde0ef"
            ],
            [
             0.5,
             "#f7f7f7"
            ],
            [
             0.6,
             "#e6f5d0"
            ],
            [
             0.7,
             "#b8e186"
            ],
            [
             0.8,
             "#7fbc41"
            ],
            [
             0.9,
             "#4d9221"
            ],
            [
             1,
             "#276419"
            ]
           ],
           "sequential": [
            [
             0,
             "#0d0887"
            ],
            [
             0.1111111111111111,
             "#46039f"
            ],
            [
             0.2222222222222222,
             "#7201a8"
            ],
            [
             0.3333333333333333,
             "#9c179e"
            ],
            [
             0.4444444444444444,
             "#bd3786"
            ],
            [
             0.5555555555555556,
             "#d8576b"
            ],
            [
             0.6666666666666666,
             "#ed7953"
            ],
            [
             0.7777777777777778,
             "#fb9f3a"
            ],
            [
             0.8888888888888888,
             "#fdca26"
            ],
            [
             1,
             "#f0f921"
            ]
           ],
           "sequentialminus": [
            [
             0,
             "#0d0887"
            ],
            [
             0.1111111111111111,
             "#46039f"
            ],
            [
             0.2222222222222222,
             "#7201a8"
            ],
            [
             0.3333333333333333,
             "#9c179e"
            ],
            [
             0.4444444444444444,
             "#bd3786"
            ],
            [
             0.5555555555555556,
             "#d8576b"
            ],
            [
             0.6666666666666666,
             "#ed7953"
            ],
            [
             0.7777777777777778,
             "#fb9f3a"
            ],
            [
             0.8888888888888888,
             "#fdca26"
            ],
            [
             1,
             "#f0f921"
            ]
           ]
          },
          "colorway": [
           "#636efa",
           "#EF553B",
           "#00cc96",
           "#ab63fa",
           "#FFA15A",
           "#19d3f3",
           "#FF6692",
           "#B6E880",
           "#FF97FF",
           "#FECB52"
          ],
          "font": {
           "color": "#2a3f5f"
          },
          "geo": {
           "bgcolor": "white",
           "lakecolor": "white",
           "landcolor": "#E5ECF6",
           "showlakes": true,
           "showland": true,
           "subunitcolor": "white"
          },
          "hoverlabel": {
           "align": "left"
          },
          "hovermode": "closest",
          "mapbox": {
           "style": "light"
          },
          "paper_bgcolor": "white",
          "plot_bgcolor": "#E5ECF6",
          "polar": {
           "angularaxis": {
            "gridcolor": "white",
            "linecolor": "white",
            "ticks": ""
           },
           "bgcolor": "#E5ECF6",
           "radialaxis": {
            "gridcolor": "white",
            "linecolor": "white",
            "ticks": ""
           }
          },
          "scene": {
           "xaxis": {
            "backgroundcolor": "#E5ECF6",
            "gridcolor": "white",
            "gridwidth": 2,
            "linecolor": "white",
            "showbackground": true,
            "ticks": "",
            "zerolinecolor": "white"
           },
           "yaxis": {
            "backgroundcolor": "#E5ECF6",
            "gridcolor": "white",
            "gridwidth": 2,
            "linecolor": "white",
            "showbackground": true,
            "ticks": "",
            "zerolinecolor": "white"
           },
           "zaxis": {
            "backgroundcolor": "#E5ECF6",
            "gridcolor": "white",
            "gridwidth": 2,
            "linecolor": "white",
            "showbackground": true,
            "ticks": "",
            "zerolinecolor": "white"
           }
          },
          "shapedefaults": {
           "line": {
            "color": "#2a3f5f"
           }
          },
          "ternary": {
           "aaxis": {
            "gridcolor": "white",
            "linecolor": "white",
            "ticks": ""
           },
           "baxis": {
            "gridcolor": "white",
            "linecolor": "white",
            "ticks": ""
           },
           "bgcolor": "#E5ECF6",
           "caxis": {
            "gridcolor": "white",
            "linecolor": "white",
            "ticks": ""
           }
          },
          "title": {
           "x": 0.05
          },
          "xaxis": {
           "automargin": true,
           "gridcolor": "white",
           "linecolor": "white",
           "ticks": "",
           "title": {
            "standoff": 15
           },
           "zerolinecolor": "white",
           "zerolinewidth": 2
          },
          "yaxis": {
           "automargin": true,
           "gridcolor": "white",
           "linecolor": "white",
           "ticks": "",
           "title": {
            "standoff": 15
           },
           "zerolinecolor": "white",
           "zerolinewidth": 2
          }
         }
        }
       }
      }
     },
     "metadata": {},
     "output_type": "display_data"
    }
   ],
   "source": [
    "import plotly.graph_objects as go\n",
    "fig = go.Figure(go.Bar(x = list(literature.values()), y=list(literature.keys()),orientation='h'))\n",
    "fig.show()"
   ]
  },
  {
   "cell_type": "code",
   "execution_count": 242,
   "metadata": {},
   "outputs": [],
   "source": [
    "def calculate_score(path):\n",
    "    with open(path, 'r') as f:\n",
    "        col_1 = []\n",
    "        col_2 = []\n",
    "        lines = [line.strip() for line in f if line]\n",
    "        for line in lines:\n",
    "            sline = line.split(' ')\n",
    "            col_1.append(float(sline[0]))\n",
    "            col_2.append(float(sline[1]))\n",
    "    return [col_1,col_2]\n",
    "\n",
    "literature_score = calculate_score('D:\\Downloads\\Clone\\Data Visualization\\HW2_literature_score.txt')\n",
    "math_score = calculate_score('D:\\Downloads\\Clone\\Data Visualization\\HW2_math_score.txt')"
   ]
  },
  {
   "cell_type": "code",
   "execution_count": 243,
   "metadata": {},
   "outputs": [
    {
     "data": {
      "text/plain": [
       "[{'id': 1,\n",
       "  'literature_mid': 0.1881908873782835,\n",
       "  'literature_final': 0.24118673154908188,\n",
       "  'literature_score': 0.42937761892736537,\n",
       "  'math_mid': 0.13830070069157693,\n",
       "  'math_final': 0.30691069850544167,\n",
       "  'math_score': 0.4452113991970186,\n",
       "  'average_score': 0.43729450906219197},\n",
       " {'id': 2,\n",
       "  'literature_mid': 0.19029725115265894,\n",
       "  'literature_final': 0.16162750733457049,\n",
       "  'literature_score': 0.3519247584872294,\n",
       "  'math_mid': 0.12395944400791942,\n",
       "  'math_final': 0.24484152605950632,\n",
       "  'math_score': 0.36880097006742574,\n",
       "  'average_score': 0.36036286427732755},\n",
       " {'id': 3,\n",
       "  'literature_mid': 0.08691888785093276,\n",
       "  'literature_final': 0.19230311906482497,\n",
       "  'literature_score': 0.2792220069157577,\n",
       "  'math_mid': 0.07731708760043415,\n",
       "  'math_final': 0.07428388413766375,\n",
       "  'math_score': 0.1516009717380979,\n",
       "  'average_score': 0.2154114893269278},\n",
       " {'id': 4,\n",
       "  'literature_mid': 0.1324558781294665,\n",
       "  'literature_final': 0.27234855441455447,\n",
       "  'literature_score': 0.404804432544021,\n",
       "  'math_mid': 0.18275658208869414,\n",
       "  'math_final': 0.31120604264421015,\n",
       "  'math_score': 0.4939626247329043,\n",
       "  'average_score': 0.44938352863846265},\n",
       " {'id': 5,\n",
       "  'literature_mid': 0.21402846733256364,\n",
       "  'literature_final': 0.1988762117207434,\n",
       "  'literature_score': 0.4129046790533071,\n",
       "  'math_mid': 0.1638294426119873,\n",
       "  'math_final': 0.193218452903471,\n",
       "  'math_score': 0.35704789551545835,\n",
       "  'average_score': 0.3849762872843827},\n",
       " {'id': 6,\n",
       "  'literature_mid': 0.12346772505069384,\n",
       "  'literature_final': 0.31574614551797114,\n",
       "  'literature_score': 0.439213870568665,\n",
       "  'math_mid': 0.13356946433711972,\n",
       "  'math_final': 0.21717212941416406,\n",
       "  'math_score': 0.3507415937512838,\n",
       "  'average_score': 0.3949777321599744},\n",
       " {'id': 7,\n",
       "  'literature_mid': 0.22039738226136754,\n",
       "  'literature_final': 0.19402934671552927,\n",
       "  'literature_score': 0.4144267289768968,\n",
       "  'math_mid': 0.16471913929455984,\n",
       "  'math_final': 0.2881038759484924,\n",
       "  'math_score': 0.45282301524305224,\n",
       "  'average_score': 0.4336248721099745},\n",
       " {'id': 8,\n",
       "  'literature_mid': 0.2541948783266466,\n",
       "  'literature_final': 0.14008216043756153,\n",
       "  'literature_score': 0.39427703876420817,\n",
       "  'math_mid': 0.1320454846887358,\n",
       "  'math_final': 0.2520938609119498,\n",
       "  'math_score': 0.38413934560068563,\n",
       "  'average_score': 0.3892081921824469},\n",
       " {'id': 9,\n",
       "  'literature_mid': 0.08792079277360626,\n",
       "  'literature_final': 0.10687441370832984,\n",
       "  'literature_score': 0.1947952064819361,\n",
       "  'math_mid': 0.08263341236644277,\n",
       "  'math_final': 0.06965504628463168,\n",
       "  'math_score': 0.15228845865107443,\n",
       "  'average_score': 0.17354183256650527},\n",
       " {'id': 10,\n",
       "  'literature_mid': 0.11957603515775642,\n",
       "  'literature_final': 0.04265419167833733,\n",
       "  'literature_score': 0.16223022683609375,\n",
       "  'math_mid': 0.028152977703829726,\n",
       "  'math_final': 0.036757387796489856,\n",
       "  'math_score': 0.06491036550031959,\n",
       "  'average_score': 0.11357029616820667},\n",
       " {'id': 11,\n",
       "  'literature_mid': 0.12141700795317911,\n",
       "  'literature_final': 0.04252368517982886,\n",
       "  'literature_score': 0.16394069313300796,\n",
       "  'math_mid': 0.026342478287229923,\n",
       "  'math_final': 0.03542601334254728,\n",
       "  'math_score': 0.061768491629777204,\n",
       "  'average_score': 0.11285459238139259},\n",
       " {'id': 12,\n",
       "  'literature_mid': 0.17197435344427392,\n",
       "  'literature_final': 0.29508337753136576,\n",
       "  'literature_score': 0.4670577309756397,\n",
       "  'math_mid': 0.19573825495077682,\n",
       "  'math_final': 0.30661973515769425,\n",
       "  'math_score': 0.502357990108471,\n",
       "  'average_score': 0.4847078605420554},\n",
       " {'id': 13,\n",
       "  'literature_mid': 0.19572550499593797,\n",
       "  'literature_final': 0.1752385686895025,\n",
       "  'literature_score': 0.3709640736854405,\n",
       "  'math_mid': 0.12208117120545221,\n",
       "  'math_final': 0.10979865696433057,\n",
       "  'math_score': 0.23187982816978278,\n",
       "  'average_score': 0.30142195092761165},\n",
       " {'id': 14,\n",
       "  'literature_mid': 0.059378544783226475,\n",
       "  'literature_final': 0.12233649115782318,\n",
       "  'literature_score': 0.18171503594104965,\n",
       "  'math_mid': 0.07822976024108669,\n",
       "  'math_final': 0.09265543367849172,\n",
       "  'math_score': 0.1708851939195784,\n",
       "  'average_score': 0.17630011493031403},\n",
       " {'id': 15,\n",
       "  'literature_mid': 0.2114503545903592,\n",
       "  'literature_final': 0.398555606517863,\n",
       "  'literature_score': 0.6100059611082222,\n",
       "  'math_mid': 0.3001224256918187,\n",
       "  'math_final': 0.38503340699315747,\n",
       "  'math_score': 0.6851558326849762,\n",
       "  'average_score': 0.6475808968965993},\n",
       " {'id': 16,\n",
       "  'literature_mid': 0.2442487411351397,\n",
       "  'literature_final': 0.3627498097633986,\n",
       "  'literature_score': 0.6069985508985383,\n",
       "  'math_mid': 0.1679438449945911,\n",
       "  'math_final': 0.18151927577326313,\n",
       "  'math_score': 0.34946312076785424,\n",
       "  'average_score': 0.47823083583319626},\n",
       " {'id': 17,\n",
       "  'literature_mid': 0.14693033492400848,\n",
       "  'literature_final': 0.3717385194224128,\n",
       "  'literature_score': 0.5186688543464213,\n",
       "  'math_mid': 0.1530219171606927,\n",
       "  'math_final': 0.20712716284714075,\n",
       "  'math_score': 0.3601490800078334,\n",
       "  'average_score': 0.43940896717712735},\n",
       " {'id': 18,\n",
       "  'literature_mid': 0.2858802514041849,\n",
       "  'literature_final': 0.22148299125153645,\n",
       "  'literature_score': 0.5073632426557213,\n",
       "  'math_mid': 0.2136256137349451,\n",
       "  'math_final': 0.3472009190508658,\n",
       "  'math_score': 0.5608265327858108,\n",
       "  'average_score': 0.5340948877207661},\n",
       " {'id': 19,\n",
       "  'literature_mid': 0.22764408713327114,\n",
       "  'literature_final': 0.15714039729474163,\n",
       "  'literature_score': 0.3847844844280128,\n",
       "  'math_mid': 0.10391715587639368,\n",
       "  'math_final': 0.11114547871418312,\n",
       "  'math_score': 0.21506263459057678,\n",
       "  'average_score': 0.2999235595092948},\n",
       " {'id': 20,\n",
       "  'literature_mid': 0.032407476104145766,\n",
       "  'literature_final': 0.06813606830231611,\n",
       "  'literature_score': 0.10054354440646188,\n",
       "  'math_mid': 0.07335725814768694,\n",
       "  'math_final': 0.03789290033307802,\n",
       "  'math_score': 0.11125015848076496,\n",
       "  'average_score': 0.10589685144361341},\n",
       " {'id': 21,\n",
       "  'literature_mid': 0.12202744132151028,\n",
       "  'literature_final': 0.04431163401542948,\n",
       "  'literature_score': 0.16633907533693976,\n",
       "  'math_mid': 0.03005637828647021,\n",
       "  'math_final': 0.03591009823989728,\n",
       "  'math_score': 0.06596647652636749,\n",
       "  'average_score': 0.11615277593165363},\n",
       " {'id': 22,\n",
       "  'literature_mid': 0.12153585764133056,\n",
       "  'literature_final': 0.04194830044299483,\n",
       "  'literature_score': 0.16348415808432537,\n",
       "  'math_mid': 0.025748117530152853,\n",
       "  'math_final': 0.032688014638908656,\n",
       "  'math_score': 0.05843613216906151,\n",
       "  'average_score': 0.11096014512669344},\n",
       " {'id': 23,\n",
       "  'literature_mid': 0.15070588786611003,\n",
       "  'literature_final': 0.21283628969888338,\n",
       "  'literature_score': 0.3635421775649934,\n",
       "  'math_mid': 0.19895959568799432,\n",
       "  'math_final': 0.32283685186562916,\n",
       "  'math_score': 0.5217964475536234,\n",
       "  'average_score': 0.4426693125593084},\n",
       " {'id': 24,\n",
       "  'literature_mid': 0.1596596887418951,\n",
       "  'literature_final': 0.14353775273638014,\n",
       "  'literature_score': 0.3031974414782752,\n",
       "  'math_mid': 0.15091558874516528,\n",
       "  'math_final': 0.2570781155082078,\n",
       "  'math_score': 0.4079937042533731,\n",
       "  'average_score': 0.35559557286582416},\n",
       " {'id': 25,\n",
       "  'literature_mid': 0.1746043476311142,\n",
       "  'literature_final': 0.1835536500669708,\n",
       "  'literature_score': 0.358157997698085,\n",
       "  'math_mid': 0.09568676594562339,\n",
       "  'math_final': 0.11974226576206909,\n",
       "  'math_score': 0.21542903170769248,\n",
       "  'average_score': 0.2867935147028887},\n",
       " {'id': 26,\n",
       "  'literature_mid': 0.22665984498079747,\n",
       "  'literature_final': 0.3857004264921032,\n",
       "  'literature_score': 0.6123602714729006,\n",
       "  'math_mid': 0.2604407654489076,\n",
       "  'math_final': 0.38159722664004664,\n",
       "  'math_score': 0.6420379920889543,\n",
       "  'average_score': 0.6271991317809275},\n",
       " {'id': 27,\n",
       "  'literature_mid': 0.2042042655996125,\n",
       "  'literature_final': 0.43471284955648054,\n",
       "  'literature_score': 0.6389171151560931,\n",
       "  'math_mid': 0.2251617275309007,\n",
       "  'math_final': 0.4245157285814834,\n",
       "  'math_score': 0.6496774561123841,\n",
       "  'average_score': 0.6442972856342386},\n",
       " {'id': 28,\n",
       "  'literature_mid': 0.16157805604974088,\n",
       "  'literature_final': 0.3980640038378664,\n",
       "  'literature_score': 0.5596420598876073,\n",
       "  'math_mid': 0.23558866325097313,\n",
       "  'math_final': 0.3846716547013031,\n",
       "  'math_score': 0.6202603179522762,\n",
       "  'average_score': 0.5899511889199418},\n",
       " {'id': 29,\n",
       "  'literature_mid': 0.267988098667062,\n",
       "  'literature_final': 0.3210961188546186,\n",
       "  'literature_score': 0.5890842175216806,\n",
       "  'math_mid': 0.25190812866408296,\n",
       "  'math_final': 0.3690954154792859,\n",
       "  'math_score': 0.6210035441433689,\n",
       "  'average_score': 0.6050438808325247},\n",
       " {'id': 30,\n",
       "  'literature_mid': 0.21440013884510695,\n",
       "  'literature_final': 0.22097926336844972,\n",
       "  'literature_score': 0.43537940221355664,\n",
       "  'math_mid': 0.20109047600964947,\n",
       "  'math_final': 0.3042426617603721,\n",
       "  'math_score': 0.5053331377700216,\n",
       "  'average_score': 0.47035626999178914},\n",
       " {'id': 31,\n",
       "  'literature_mid': 0.02746497285176099,\n",
       "  'literature_final': 0.053350305220976856,\n",
       "  'literature_score': 0.08081527807273785,\n",
       "  'math_mid': 0.07060899256120387,\n",
       "  'math_final': 0.03608251673818297,\n",
       "  'math_score': 0.10669150929938684,\n",
       "  'average_score': 0.09375339368606234},\n",
       " {'id': 32,\n",
       "  'literature_mid': 0.11427504052246296,\n",
       "  'literature_final': 0.04191377849045285,\n",
       "  'literature_score': 0.1561888190129158,\n",
       "  'math_mid': 0.030210721503014522,\n",
       "  'math_final': 0.034344512637503107,\n",
       "  'math_score': 0.06455523414051763,\n",
       "  'average_score': 0.11037202657671671},\n",
       " {'id': 33,\n",
       "  'literature_mid': 0.11877167718916011,\n",
       "  'literature_final': 0.039513037193605306,\n",
       "  'literature_score': 0.15828471438276542,\n",
       "  'math_mid': 0.026923316060225185,\n",
       "  'math_final': 0.03374148898599734,\n",
       "  'math_score': 0.06066480504622253,\n",
       "  'average_score': 0.10947475971449397},\n",
       " {'id': 34,\n",
       "  'literature_mid': 0.22933559459864503,\n",
       "  'literature_final': 0.22831899624690585,\n",
       "  'literature_score': 0.4576545908455509,\n",
       "  'math_mid': 0.2656005625142475,\n",
       "  'math_final': 0.16450231996591028,\n",
       "  'math_score': 0.4301028824801578,\n",
       "  'average_score': 0.4438787366628544},\n",
       " {'id': 35,\n",
       "  'literature_mid': 0.23880619992046342,\n",
       "  'literature_final': 0.21915243117036262,\n",
       "  'literature_score': 0.457958631090826,\n",
       "  'math_mid': 0.23809753989286564,\n",
       "  'math_final': 0.27207636134894075,\n",
       "  'math_score': 0.5101739012418064,\n",
       "  'average_score': 0.4840662661663162},\n",
       " {'id': 36,\n",
       "  'literature_mid': 0.052132199330672084,\n",
       "  'literature_final': 0.10406558024968925,\n",
       "  'literature_score': 0.15619777958036132,\n",
       "  'math_mid': 0.02579877941771898,\n",
       "  'math_final': 0.03720428115871629,\n",
       "  'math_score': 0.06300306057643526,\n",
       "  'average_score': 0.10960042007839829},\n",
       " {'id': 37,\n",
       "  'literature_mid': 0.14006274920137188,\n",
       "  'literature_final': 0.3373002974913348,\n",
       "  'literature_score': 0.4773630466927067,\n",
       "  'math_mid': 0.2243062093297113,\n",
       "  'math_final': 0.16306605546049918,\n",
       "  'math_score': 0.3873722647902105,\n",
       "  'average_score': 0.4323676557414586},\n",
       " {'id': 38,\n",
       "  'literature_mid': 0.1362799228863488,\n",
       "  'literature_final': 0.3965635478926548,\n",
       "  'literature_score': 0.5328434707790036,\n",
       "  'math_mid': 0.2258397207438032,\n",
       "  'math_final': 0.26761608628096945,\n",
       "  'math_score': 0.49345580702477265,\n",
       "  'average_score': 0.5131496389018881},\n",
       " {'id': 39,\n",
       "  'literature_mid': 0.22744378345666483,\n",
       "  'literature_final': 0.29775839628135364,\n",
       "  'literature_score': 0.5252021797380184,\n",
       "  'math_mid': 0.26775665972562523,\n",
       "  'math_final': 0.4024301735397857,\n",
       "  'math_score': 0.670186833265411,\n",
       "  'average_score': 0.5976945065017147},\n",
       " {'id': 40,\n",
       "  'literature_mid': 0.1714016754381844,\n",
       "  'literature_final': 0.2527450197638523,\n",
       "  'literature_score': 0.4241466952020367,\n",
       "  'math_mid': 0.21377531187647283,\n",
       "  'math_final': 0.15589633389157784,\n",
       "  'math_score': 0.36967164576805067,\n",
       "  'average_score': 0.3969091704850437},\n",
       " {'id': 41,\n",
       "  'literature_mid': 0.16728160631513597,\n",
       "  'literature_final': 0.33410980587921674,\n",
       "  'literature_score': 0.5013914121943527,\n",
       "  'math_mid': 0.24842129691092457,\n",
       "  'math_final': 0.2997905518163414,\n",
       "  'math_score': 0.548211848727266,\n",
       "  'average_score': 0.5248016304608094},\n",
       " {'id': 42,\n",
       "  'literature_mid': 0.022691110669246808,\n",
       "  'literature_final': 0.04378082440320233,\n",
       "  'literature_score': 0.06647193507244914,\n",
       "  'math_mid': 0.02655343333265922,\n",
       "  'math_final': 0.018347199923131424,\n",
       "  'math_score': 0.04490063325579065,\n",
       "  'average_score': 0.055686284164119894},\n",
       " {'id': 43,\n",
       "  'literature_mid': 0.11687538171177675,\n",
       "  'literature_final': 0.042547762965746506,\n",
       "  'literature_score': 0.15942314467752325,\n",
       "  'math_mid': 0.027482741407666017,\n",
       "  'math_final': 0.034036735405877046,\n",
       "  'math_score': 0.06151947681354306,\n",
       "  'average_score': 0.11047131074553315},\n",
       " {'id': 44,\n",
       "  'literature_mid': 0.12005319892892137,\n",
       "  'literature_final': 0.039598892835903086,\n",
       "  'literature_score': 0.15965209176482445,\n",
       "  'math_mid': 0.025177219146866155,\n",
       "  'math_final': 0.032958685273689024,\n",
       "  'math_score': 0.058135904420555176,\n",
       "  'average_score': 0.10889399809268982},\n",
       " {'id': 45,\n",
       "  'literature_mid': 0.23213583732683,\n",
       "  'literature_final': 0.27998312102029865,\n",
       "  'literature_score': 0.5121189583471286,\n",
       "  'math_mid': 0.19121055869725134,\n",
       "  'math_final': 0.25146503017785693,\n",
       "  'math_score': 0.4426755888751083,\n",
       "  'average_score': 0.47739727361111844}]"
      ]
     },
     "execution_count": 243,
     "metadata": {},
     "output_type": "execute_result"
    }
   ],
   "source": [
    "final_score = []\n",
    "for i in range(len(literature_score[0])):\n",
    "    score = {\n",
    "        'id': i + 1,\n",
    "        'literature_mid': literature_score[0][i]*0.4,\n",
    "        'literature_final': literature_score[1][i]*0.6,\n",
    "        'literature_score': literature_score[0][i]*0.4 + literature_score[1][i]*0.6,\n",
    "        'math_mid':math_score[0][i]*0.4,\n",
    "        'math_final':math_score[1][i]*0.6,\n",
    "        'math_score': math_score[0][i]*0.4 + math_score[1][i]*0.6,\n",
    "        'average_score': ((literature_score[0][i]*0.4 + literature_score[1][i]*0.6) + (math_score[0][i]*0.4 + math_score[1][i]*0.6))/2\n",
    "    }\n",
    "    final_score.append(score)\n",
    "final_score"
   ]
  },
  {
   "cell_type": "code",
   "execution_count": 244,
   "metadata": {},
   "outputs": [],
   "source": [
    "sorted_literature = sorted(final_score, key = itemgetter('literature_score'), reverse = True)\n",
    "sorted_math = sorted(final_score, key = itemgetter('math_score'), reverse = True)\n",
    "sorted_final = sorted(final_score, key = itemgetter('average_score'), reverse = True)"
   ]
  },
  {
   "cell_type": "code",
   "execution_count": 245,
   "metadata": {},
   "outputs": [
    {
     "data": {
      "text/plain": [
       "[15, 27, 26, 29, 39, 28, 18, 41, 38, 12]"
      ]
     },
     "execution_count": 245,
     "metadata": {},
     "output_type": "execute_result"
    }
   ],
   "source": [
    "top_student = []\n",
    "for i in range(10):\n",
    "    top_student.append(sorted_final[i]['id'])\n",
    "top_student"
   ]
  },
  {
   "cell_type": "code",
   "execution_count": 246,
   "metadata": {},
   "outputs": [],
   "source": [
    "literature_id = np.ravel([sorted_literature[i]['id'] for i in range(len(sorted_literature))])\n",
    "literature_mid = np.ravel([sorted_literature[i]['literature_mid'] for i in range(len(sorted_literature))])\n",
    "literature_final = np.ravel([sorted_literature[i]['literature_final'] for i in range(len(sorted_literature))])\n",
    "\n",
    "math_id = np.ravel([sorted_math[i]['id'] for i in range(len(sorted_math))])\n",
    "math_mid = np.ravel([sorted_math[i]['math_mid'] for i in range(len(sorted_math))])\n",
    "math_final = np.ravel([sorted_math[i]['math_final'] for i in range(len(sorted_math))])\n",
    "\n",
    "final_lit_mid = np.ravel([sorted_final[i]['literature_mid']/2 for i in range(len(sorted_final))])\n",
    "final_lit = np.ravel([sorted_final[i]['literature_final']/2 for i in range(len(sorted_final))])\n",
    "final_math_mid = np.ravel([sorted_final[i]['math_mid']/2 for i in range(len(sorted_final))])\n",
    "final_math = np.ravel([sorted_final[i]['math_final']/2 for i in range(len(sorted_final))])\n",
    "fin_sum = np.ravel([sorted_final[i]['average_score'] for i in range(len(sorted_final))])\n",
    "final_id = np.ravel([sorted_final[i]['id'] for i in range(len(sorted_final))])"
   ]
  },
  {
   "cell_type": "code",
   "execution_count": 287,
   "metadata": {},
   "outputs": [
    {
     "data": {
      "image/png": "[encoded data removed]",
      "text/plain": [
       "<Figure size 1500x1000 with 3 Axes>"
      ]
     },
     "metadata": {},
     "output_type": "display_data"
    }
   ],
   "source": [
    "fig, (ax1,ax2,ax3) = plt.subplots(1,3,figsize=(15,10))\n",
    "\n",
    "#first subplot\n",
    "for i, j in enumerate(literature_id):\n",
    "    ax1.barh(i+1,literature_mid[i], color = 'lemonchiffon')\n",
    "    ax1.barh(i+1,literature_final[i], color = 'khaki', left = literature_mid[i])\n",
    "    ax1.text(0.01, i + 1.3, j, size=11, color='black')\n",
    "    if (j in top_student[:3]):\n",
    "        index = top_student.index(j)\n",
    "        ax1.text(literature_mid[i] + literature_final[i] + 0.01, i+1.3, index+1, color = 'black', size=11, fontweight='bold')\n",
    "    if (j in top_student[3:]):\n",
    "        ax1.text(literature_mid[i] + literature_final[i] + 0.01, i+1.3, '*', color = 'black', size=11,fontweight='bold')\n",
    "ax1.set_xticks([0, 0.2, 0.4, 0.6, 0.8])\n",
    "ax1.set_yticks([1, 5, 10, 15, 20, 25, 30, 35, 40, 45])\n",
    "ax1.set_yticklabels([1, 5, 10, 15, 20, 25, 30, 35, 40, 45])\n",
    "ax1.set_xticklabels([0, 0.2, 0.4, 0.6, 0.8])\n",
    "ax1.grid(axis='x', alpha=0.3)\n",
    "ax1.set_ylim(0, 46)\n",
    "ax1.set_xlim(0,0.8)\n",
    "ax1.set_title('(a) Literature score')\n",
    "ax1.invert_yaxis()\n",
    "\n",
    "#2nd subplot\n",
    "for i, j in enumerate(math_id):\n",
    "    ax2.barh(i+1,math_mid[i], color = 'lightcyan')\n",
    "    ax2.barh(i+1,math_final[i], color = 'cyan', left = math_mid[i])\n",
    "    ax2.text(0.01, i + 1.3, j, size=11, color='black')\n",
    "    if (j in top_student[:3]):\n",
    "        index = top_student.index(j)\n",
    "        ax2.text(math_mid[i] + math_final[i] + 0.01, i+1.3, index+1, color = 'black', size=11,fontweight='bold')\n",
    "    if (j in top_student[3:]):\n",
    "        ax2.text(math_mid[i] + math_final[i] + 0.01, i+1.3, '*', color = 'black', size=11,fontweight='bold')\n",
    "ax2.set_xticks([0, 0.2, 0.4, 0.6, 0.8])\n",
    "ax2.set_yticks([1, 5, 10, 15, 20, 25, 30, 35, 40, 45])\n",
    "ax2.grid(axis='x', alpha=0.3)\n",
    "ax2.grid(axis='y', which='both', linestyle='-', linewidth=0)\n",
    "ax2.set_ylim(0, 46)\n",
    "ax2.set_xlim(0,0.8)\n",
    "ax2.set_title('(b) Math score')\n",
    "ax2.invert_yaxis()\n",
    "\n",
    "#3rd subplot\n",
    "for i, j in enumerate(final_id):\n",
    "    ax3.barh(i+1,final_lit_mid[i], color = 'lemonchiffon')\n",
    "    ax3.barh(i+1,final_lit[i], color = 'khaki', left = final_lit_mid[i])\n",
    "    ax3.barh(i+1,final_math_mid[i], color = 'lightcyan', left=final_lit[i]+final_lit_mid[i])\n",
    "    ax3.barh(i+1,final_math[i], color = 'cyan', left = final_lit[i]+final_lit_mid[i]+final_math_mid[i])\n",
    "    ax3.text(0.01, i + 1.3, j, size=11, color='black')\n",
    "    if (j in top_student[:3]):\n",
    "        ax3.text(final_lit[i]+final_lit_mid[i]+final_math_mid[i]+final_math[i] + 0.01, i+1.3, i+1, color = 'black', size=11,fontweight='bold')\n",
    "    if (j in top_student[3:]):\n",
    "        ax3.text(final_lit[i]+final_lit_mid[i]+final_math_mid[i]+final_math[i] + 0.01, i+1.3, '*', color = 'black', size=11,fontweight='bold')\n",
    "ax3.set_xticks([0, 0.2, 0.4, 0.6, 0.8])\n",
    "ax3.set_yticks([1, 5, 10, 15, 20, 25, 30, 35, 40, 45])\n",
    "ax3.grid(axis='x', alpha=0.3)\n",
    "ax3.grid(axis='y', which='both', linestyle='-', linewidth=0)\n",
    "ax3.set_ylim(0, 46)\n",
    "ax3.set_xlim(0,0.8)\n",
    "ax3.set_title('(c) Final score')\n",
    "ax3.invert_yaxis()\n",
    "\n",
    "plt.tight_layout()\n",
    "plt.show()"
   ]
  }
 ],
 "metadata": {
  "kernelspec": {
   "display_name": "myenv",
   "language": "python",
   "name": "python3"
  },
  "language_info": {
   "codemirror_mode": {
    "name": "ipython",
    "version": 3
   },
   "file_extension": ".py",
   "mimetype": "text/x-python",
   "name": "python",
   "nbconvert_exporter": "python",
   "pygments_lexer": "ipython3",
   "version": "3.10.12"
  },
  "orig_nbformat": 4
 },
 "nbformat": 4,
 "nbformat_minor": 2
}
